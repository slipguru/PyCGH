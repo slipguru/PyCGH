{
 "metadata": {
  "name": "MultivariateGaussian"
 }, 
 "nbformat": 2, 
 "worksheets": [
  {
   "cells": [
    {
     "cell_type": "code", 
     "collapsed": true, 
     "input": [
      "from numpy import linalg as la", 
      "def _mvnpdf(mu, cov):", 
      "    mu = np.asarray(mu)", 
      "    cov = np.asarray(cov)", 
      "", 
      "    # Precalculation", 
      "    covI = la.inv(cov)", 
      "", 
      "    def mvnpdf(x, y):", 
      "        dev = (np.c_[x, y] - mu)", 
      "        return np.exp(-0.5 * (np.dot(dev, covI) * dev).sum(axis=1))", 
      "", 
      "    return mvnpdf"
     ], 
     "language": "python", 
     "outputs": [], 
     "prompt_number": 30
    }, 
    {
     "cell_type": "code", 
     "collapsed": true, 
     "input": [
      "import matplotlib.pyplot as plt", 
      "from mpl_toolkits.mplot3d import Axes3D"
     ], 
     "language": "python", 
     "outputs": [], 
     "prompt_number": 79
    }, 
    {
     "cell_type": "code", 
     "collapsed": false, 
     "input": [
      "mu = np.array([50, 100])", 
      "var = np.sqrt(100), np.sqrt(200)", 
      "X, Y = np.meshgrid(np.arange(100), np.arange(200))", 
      "", 
      "plt.figure()", 
      "import random as rnd", 
      "", 
      "theta = np.random.uniform(0.0, 2 * np.pi)", 
      "U = np.array([[np.cos(theta), np.sin(theta)], ", 
      "              [-np.sin(theta), np.cos(theta)]])", 
      "", 
      "print np.rad2deg(theta)", 
      "", 
      "Sigma = np.dot(np.dot(U, np.diag(var)), U.T)# * np.eye(2)) # broadcasting", 
      "", 
      "mvn = _mvnpdf(mu, Sigma)", 
      "bias = mvn(X.ravel(), Y.ravel()) * rnd.choice([1, -1])", 
      "tmp = (bias) + np.random.normal(0.0, 0.1, size=len(bias))", 
      "plt.imshow(tmp.reshape(200, 100))", 
      "plt.colorbar()", 
      "plt.contour(X, Y, bias.reshape(X.shape))", 
      "plt.axis('tight')"
     ], 
     "language": "python", 
     "outputs": [
      {
       "output_type": "stream", 
       "stream": "stdout", 
       "text": [
        "206.721349336"
       ]
      }, 
      {
       "output_type": "pyout", 
       "prompt_number": 194, 
       "text": [
        "(-0.5, 99.5, 199.5, -0.5)"
       ]
      }
     ], 
     "prompt_number": 194
    }, 
    {
     "cell_type": "code", 
     "collapsed": true, 
     "input": [], 
     "language": "python", 
     "outputs": [], 
     "prompt_number": "&nbsp;"
    }
   ]
  }
 ]
}