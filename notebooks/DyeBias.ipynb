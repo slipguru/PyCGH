{
 "metadata": {
  "name": "DyeBias"
 }, 
 "nbformat": 2, 
 "worksheets": [
  {
   "cells": [
    {
     "cell_type": "code", 
     "collapsed": true, 
     "input": [
      "# 0-2500, 2500-5000, 5000-7500, 7500-10000", 
      "normal, loss, ampl, X = (slice(s, s+2500) for s in range(0, 7501, 2500))", 
      "", 
      "# Reference", 
      "r = np.ones(10000) * 2.", 
      "r[X] = 1.", 
      "", 
      "# Test", 
      "t = r.copy()", 
      "t[loss] = 1.", 
      "t[ampl] = 3.", 
      "", 
      "r_dye, t_dye = 500, 500", 
      "r_noise, t_noise = r_dye * 1, t_dye * 1"
     ], 
     "language": "python", 
     "outputs": [], 
     "prompt_number": 65
    }, 
    {
     "cell_type": "code", 
     "collapsed": false, 
     "input": [
      "# 1. (cn * d) + e", 
      "r1 = (r * r_dye) + np.random.normal(0.0, r_noise, size=len(r))", 
      "t1 = (t * t_dye) + np.random.normal(0.0, t_noise, size=len(t))", 
      "log2_1 = np.log2(t1) - np.log2(r1)", 
      "#ratio_1 = t1/r1"
     ], 
     "language": "python", 
     "outputs": [], 
     "prompt_number": 66
    }, 
    {
     "cell_type": "code", 
     "collapsed": false, 
     "input": [
      "# 2. cn * (d + e)", 
      "r2 = r * (np.random.normal(r_dye, r_noise, size=len(r)))", 
      "t2 = t * (np.random.normal(t_dye, t_noise, size=len(t)))", 
      "log2_2 = np.log2(t2) - np.log2(r2)", 
      "#ratio_2 = t2/r2"
     ], 
     "language": "python", 
     "outputs": [], 
     "prompt_number": 67
    }, 
    {
     "cell_type": "code", 
     "collapsed": false, 
     "input": [
      "plt.figure()", 
      "plt.plot(log2_1, 'r.')", 
      "#plt.plot(ratio_1, 'r.')", 
      "a = plt.axis()", 
      "", 
      "plt.figure()", 
      "plt.plot(log2_2, 'b.')", 
      "#plt.plot(ratio_2, 'b.')", 
      "plt.axis(a)"
     ], 
     "language": "python", 
     "outputs": [
      {
       "output_type": "pyout", 
       "prompt_number": 68, 
       "text": [
        "(0.0, 10000.0, -15.0, 10.0)"
       ]
      }
     ], 
     "prompt_number": 68
    }, 
    {
     "cell_type": "code", 
     "collapsed": false, 
     "input": [
      "for s in normal, loss, ampl, X:", 
      "    print log2_1[s].mean(), log2_1[s].std(), ratio_1[s].mean(), ratio_1[s].std()", 
      "    print log2_2[s].mean(), log2_2[s].std(), ratio_2[s].mean(), ratio_2[s].std()", 
      "    print"
     ], 
     "language": "python", 
     "outputs": [
      {
       "output_type": "stream", 
       "stream": "stdout", 
       "text": [
        "nan nan 1.02488338651 0.188430591155", 
        "nan nan 1.03554039768 1.87957375461", 
        "", 
        "nan nan 0.505519288502 0.144184969239", 
        "nan nan 0.538793878495 0.221798818739", 
        "", 
        "nan nan 1.51894759626 0.231686160897", 
        "nan nan 1.62031631961 0.718925455045", 
        "", 
        "nan nan 1.07848936868 0.479469698373", 
        "nan nan 1.08617471463 0.49271181323", 
        ""
       ]
      }
     ], 
     "prompt_number": 69
    }, 
    {
     "cell_type": "code", 
     "collapsed": false, 
     "input": [
      "200 * 0.1"
     ], 
     "language": "python", 
     "outputs": [
      {
       "output_type": "pyout", 
       "prompt_number": 41, 
       "text": [
        "20.0"
       ]
      }
     ], 
     "prompt_number": 41
    }, 
    {
     "cell_type": "code", 
     "collapsed": true, 
     "input": [], 
     "language": "python", 
     "outputs": [], 
     "prompt_number": "&nbsp;"
    }
   ]
  }
 ]
}