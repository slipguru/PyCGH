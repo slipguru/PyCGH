{
 "metadata": {
  "name": "SynthTest"
 }, 
 "nbformat": 2, 
 "worksheets": [
  {
   "cells": [
    {
     "cell_type": "code", 
     "collapsed": true, 
     "input": [
      "import numpy as np", 
      "import pylab as pl", 
      "from scipy import signal", 
      "", 
      "from pycgh.datatypes.cytobands import CytoStructure, _chr2int", 
      "from pycgh.utils import array_trend", 
      "from pycgh.plots import profile, spatial", 
      "from pycgh.readers import agilent, ucsc_mapping", 
      "from pycgh.synth import ArrayCGHSynth"
     ], 
     "language": "python", 
     "outputs": [], 
     "prompt_number": 1
    }, 
    {
     "cell_type": "code", 
     "collapsed": true, 
     "input": [
      "def global_median(acgh):", 
      "    chrX = acgh.F['chromosome'] == 23", 
      "    log2 = np.log2(acgh.F['test_signal']) - np.log2(acgh.F['reference_signal'])", 
      "    log2 -= np.median(log2[chrX]) # global median normalization", 
      "    return log2 # automatic defiltering"
     ], 
     "language": "python", 
     "outputs": [], 
     "prompt_number": 2
    }, 
    {
     "cell_type": "code", 
     "collapsed": true, 
     "input": [
      "cs = CytoStructure('data/ucsc/hg19/cytoBandIdeo.txt.gz')", 
      "CHIP_DESIGN = ucsc_mapping('data/ucsc/hg19/agilentCgh4x44k.txt.gz', filter_valid=True)", 
      "", 
      "acgh_source = ArrayCGHSynth((430, 103), CHIP_DESIGN,", 
      "                            {'17': [(4, 0.8), (2, 0.2)],  ", 
      "                             '12': [(4, 0.8), (2, 0.2)], ", 
      "                             '2p': [(1, 0.8), (2, 0.2)],", 
      "                             '1q': [(1, 0.8)]}, cs,", 
      "                            noise=(0.2, 0.4))"
     ], 
     "language": "python", 
     "outputs": [], 
     "prompt_number": 3
    }, 
    {
     "cell_type": "code", 
     "collapsed": false, 
     "input": [
      "# Synthetic CGH", 
      "acgh = acgh_source.draw()", 
      "acgh['log2'] = global_median(acgh)", 
      "acgh.sort()"
     ], 
     "language": "python", 
     "outputs": [
      {
       "output_type": "stream", 
       "stream": "stdout", 
       "text": [
        "462.144330521 564.284452153", 
        "462.163556219 564.596458517"
       ]
      }
     ], 
     "prompt_number": 6
    }, 
    {
     "cell_type": "code", 
     "collapsed": true, 
     "input": [
      "# Real CGH", 
      "import os", 
      "PATHS = ['/home/sabba/DISI/IST/GEO_Tonini/Samples/10003_G1_Cologne.txt',", 
      "         '/home/sabba/DISI/IST/GEO_Tonini/Samples/19350_G1_Cologne.txt']", 
      "", 
      "acgh = agilent(PATHS[0], test_channel='g',", 
      "               ucsc_mapping='data/ucsc/hg19/agilentCgh4x44k.txt.gz')", 
      "acgh['log2'] = global_median(acgh)", 
      "acgh.sort()"
     ], 
     "language": "python", 
     "outputs": [], 
     "prompt_number": 21
    }, 
    {
     "cell_type": "code", 
     "collapsed": false, 
     "input": [
      "for s in ('reference', 'test'):", 
      "    s_signal = acgh.F['%s_signal' % s]", 
      "    filt_3 = signal.medfilt(s_signal, 3)", 
      "    filt_101 = signal.medfilt(s_signal, 101)", 
      "", 
      "    pl.figure()", 
      "    prf = profile(acgh, signal=filt_3)", 
      "    pl.scatter(prf, filt_101, s=5, c='gray', lw=0)", 
      "    pl.title(s)", 
      "pl.figure()", 
      "profile(acgh, acgh.F['log2'])"
     ], 
     "language": "python", 
     "outputs": [
      {
       "output_type": "pyout", 
       "prompt_number": 5, 
       "text": [
        "array([     42733,      65755,      88986, ..., 3061037574, 3091411607,", 
        "       3091415900])"
       ]
      }
     ], 
     "prompt_number": 5
    }, 
    {
     "cell_type": "code", 
     "collapsed": true, 
     "input": [
      "#pl.figure()", 
      "#profile(acgh, acgh.F['reference_signal'])", 
      "", 
      "#pl.figure()", 
      "#acgh.sort()", 
      "", 
      "#coords, cidx = profile(acgh, acgh.F['log2'],", 
      "#                       segmentation=signal.medfilt(acgh.F['log2'], 101))", 
      "", 
      "#pl.plot(coords, np.log2(acgh.F['true_test_signal'] / 2.), '-')", 
      "#pl.figure()", 
      "#signal = (np.log2(acgh.F['test_signal']) -", 
      "#          np.log2(acgh.F['reference_signal']))", 
      "#signal = array_trend(signal, acgh.F['col'], acgh.F['row'])", 
      "#spatial(acgh, signal=signal)#acgh.F['trend'])", 
      "", 
      "#pl.figure()", 
      "#spatial(acgh, signal=acgh.F['trend'])", 
      "", 
      "#pl.figure()", 
      "#spatial(acgh, median_center=True)"
     ], 
     "language": "python", 
     "outputs": [], 
     "prompt_number": "&nbsp;"
    }
   ]
  }
 ]
}