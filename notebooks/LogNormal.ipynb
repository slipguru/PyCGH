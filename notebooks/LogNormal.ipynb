{
 "metadata": {
  "name": "LogNormal"
 }, 
 "nbformat": 2, 
 "worksheets": [
  {
   "cells": [
    {
     "cell_type": "code", 
     "collapsed": true, 
     "input": [
      "# PMFs", 
      "def normal(x, mu, sigma):", 
      "    factor = 1./(sigma*np.sqrt(2*np.pi))", 
      "    expo = np.exp(-0.5 * ( ((x - mu)*(x - mu)) / (sigma*sigma) ))", 
      "    return factor * expo", 
      "", 
      "def lognormal(x, mu, sigma, alog=np.log):", 
      "    factor = alog(np.e)/(x*sigma*np.sqrt(2*np.pi))", 
      "    expo = np.exp(-0.5 * ( ((alog(x) - mu)*(alog(x) - mu)) / (sigma*sigma) ))    ", 
      "    return factor * expo  "
     ], 
     "language": "python", 
     "outputs": [], 
     "prompt_number": 1
    }, 
    {
     "cell_type": "code", 
     "collapsed": false, 
     "input": [
      "mu, sigma = 1.0, .8", 
      "alog, base = np.log2, 2.", 
      "#alog, base = np.log, np.e", 
      "#alog, base = np.log10, 10.", 
      "mu = sigma*sigma*np.log(base) # Mode 1", 
      "", 
      "# LogNormal generation", 
      "x = base**np.random.normal(mu, sigma, 100000) # clearer", 
      "v = np.linspace(x.min(), x.max(), 1000)", 
      "", 
      "# LogNormal statistics", 
      "median = base**mu", 
      "mode = base**(mu - sigma*sigma*np.log(base))", 
      "mean = base**(mu + sigma*sigma*np.log(base)*0.5)", 
      "", 
      "plt.subplot(211)", 
      "_ = plt.hist(x, bins=1000, normed=True)", 
      "plt.plot(v, lognormal(v, mu, sigma, alog), 'r-', lw=2)", 
      "plt.axvline(mode, c='b', lw=2) # MODE", 
      "", 
      "print 'Median', median, np.median(x)", 
      "print 'Mean', mean, np.mean(x)", 
      "print 'Mode', mode", 
      "", 
      "# Check Underlying Normal", 
      "logx = alog(x)", 
      "v = np.linspace(logx.min(), logx.max(), 1000)", 
      "", 
      "plt.subplot(212)", 
      "_ = plt.hist(logx, bins=1000, normed=True)", 
      "plt.plot(v, normal(v, mu, sigma), 'r-', lw=2)"
     ], 
     "language": "python", 
     "outputs": [
      {
       "output_type": "stream", 
       "stream": "stdout", 
       "text": [
        "Median 1.36000711168 1.35696120577", 
        "Mean 1.58603135577 1.58219699141", 
        "Mode 1.0"
       ]
      }, 
      {
       "output_type": "pyout", 
       "prompt_number": 3, 
       "text": [
        "[&lt;matplotlib.lines.Line2D at 0x3d94d90&gt;]"
       ]
      }
     ], 
     "prompt_number": 3
    }, 
    {
     "cell_type": "code", 
     "collapsed": false, 
     "input": [
      "# Test of operation between LogNormal Distributions", 
      "mux, sigmax = 1.0, 0.5", 
      "muy, sigmay = 0.5, 0.8", 
      "x = base**np.random.normal(mux, sigmax, 100000)", 
      "y = base**np.random.normal(muy, sigmay, 100000)", 
      "", 
      "plt.subplot(321)", 
      "_ = plt.hist(x, bins=1000, normed=True)", 
      "plt.title('X')", 
      "plt.subplot(322)", 
      "_ = plt.hist(y, bins=1000, normed=True)", 
      "plt.title('Y')", 
      "", 
      "# -- Product -------------------------------", 
      "z = x * y", 
      "", 
      "plt.subplot(323)", 
      "_ = plt.hist(z, bins=1000, normed=True)", 
      "plt.title('X*Y')", 
      "", 
      "# Uderlying Normal", 
      "logz = alog(z)", 
      "", 
      "plt.subplot(325)", 
      "_ = plt.hist(logz, bins=1000, normed=True)", 
      "plt.title('Log(X*Y)')", 
      "", 
      "print 'Log(X*Y) statistics'", 
      "muz, sigmaz = logz.mean(), logz.std()", 
      "print 'Estimated:', muz, sigmaz", 
      "print 'Calculated:', mux + muy, np.sqrt(sigmax**2 + sigmay**2)", 
      "", 
      "# -- Division ------------------------------", 
      "z = x / y", 
      "", 
      "plt.subplot(324)", 
      "_ = plt.hist(z, bins=1000, normed=True)", 
      "plt.title('X/Y')", 
      "", 
      "# Uderlying Normal", 
      "logz = alog(z)", 
      "", 
      "plt.subplot(326)", 
      "_ = plt.hist(logz, bins=1000, normed=True)", 
      "plt.title('Log(X/Y)')", 
      "", 
      "print 'Log(X/Y) statistics'", 
      "muz, sigmaz = logz.mean(), logz.std()", 
      "print 'Estimated:', muz, sigmaz", 
      "print 'Calculated:', mux - muy, np.sqrt(sigmax**2 + sigmay**2)"
     ], 
     "language": "python", 
     "outputs": [
      {
       "output_type": "stream", 
       "stream": "stdout", 
       "text": [
        "Log(X*Y) statistics", 
        "Estimated: 1.49650359934 0.941013271133", 
        "Calculated: 1.5 0.943398113206", 
        "Log(X/Y) statistics"
       ]
      }, 
      {
       "output_type": "stream", 
       "stream": "stdout", 
       "text": [
        "", 
        "Estimated: 0.505598625373 0.942115840456", 
        "Calculated: 0.5 0.943398113206"
       ]
      }
     ], 
     "prompt_number": 6
    }, 
    {
     "cell_type": "code", 
     "collapsed": true, 
     "input": [
      "import os, csv", 
      "from pycgh.readers import agilent", 
      "", 
      "ROOT = '/home/sabba/DISI/IST/GEO_Tonini/'", 
      "CSV = os.path.join(ROOT, 'GSE255711_info.csv')"
     ], 
     "language": "python", 
     "outputs": [], 
     "prompt_number": 3
    }, 
    {
     "cell_type": "code", 
     "collapsed": false, 
     "input": [
      "for sample in csv.DictReader(open(CSV), dialect='excel-tab'):", 
      "    sample_file = sample['Sample_title']", 
      "    ch1_label, ch2_label = sample['Sample_label_ch1'], sample['Sample_label_ch2']", 
      "", 
      "    label_map = {'cy3': 'g', 'cy5': 'r'}", 
      "    if sample['Sample_source_name_ch1'] == 'reference':", 
      "        test_channel = label_map[ch2_label]", 
      "    else:", 
      "        test_channel = label_map[ch1_label]", 
      "", 
      "    SAMPLE_PATH = os.path.join(ROOT, 'Samples', '%s.txt' % sample_file)", 
      "    sample = agilent(SAMPLE_PATH, test_channel=test_channel)", 
      "    ", 
      "    autosomes = (sample.M['chromosome'] < 23)", 
      "    ref_signal = sample.M['reference_signal'][autosomes]", 
      "    logref = np.log(ref_signal)", 
      "    mu, sigma = logref.mean(), logref.std()", 
      "    ", 
      "    mean = np.exp(mu + sigma*sigma*0.5)", 
      "    median = np.exp(mu)", 
      "    mode = np.exp(mu - sigma*sigma)", 
      "    #variance = (np.exp(sigma*sigma) - 1) * np.exp(2*mu + sigma*sigma)", 
      "    print mu, sigma", 
      "    print mode, mean, ref_signal.mean(), median, np.median(ref_signal)", 
      "    ", 
      "    x_signal = sample.M['reference_signal'][sample.M['chromosome'] == 23]", 
      "    print x_signal.mean(), np.median(x_signal)", 
      "    print ", 
      "    "
     ], 
     "language": "python", 
     "outputs": [
      {
       "output_type": "stream", 
       "stream": "stdout", 
       "text": [
        "7.18912033323 0.398545794124", 
        "1130.34885265 1434.45420119 1430.19152076 1324.93718961 "
       ]
      }, 
      {
       "output_type": "stream", 
       "stream": "stdout", 
       "text": [
        "1417.0", 
        "781.69897084 750.75", 
        "", 
        "6.01942692037"
       ]
      }, 
      {
       "output_type": "stream", 
       "stream": "stdout", 
       "text": [
        " 0.473126571466", 
        "328.842255015 460.057414896 464.933369143 411.342795991 "
       ]
      }, 
      {
       "output_type": "stream", 
       "stream": "stdout", 
       "text": [
        "415.0", 
        "459.650684932 417.0", 
        "", 
        "5.76617799792"
       ]
      }, 
      {
       "output_type": "stream", 
       "stream": "stdout", 
       "text": [
        " 0.440373077539", 
        "263.025122519 351.827930275 355.092074592 319.314974947 "
       ]
      }, 
      {
       "output_type": "stream", 
       "stream": "stdout", 
       "text": [
        "324.0", 
        "224.87 198.0", 
        "", 
        "6.36421690344"
       ]
      }, 
      {
       "output_type": "stream", 
       "stream": "stdout", 
       "text": [
        " 0.427667918003", 
        "483.628502584 636.297885734 639.715708366 580.689913944 "
       ]
      }, 
      {
       "output_type": "stream", 
       "stream": "stdout", 
       "text": [
        "599.0", 
        "392.796060606 346.5", 
        "", 
        "5.98100982845"
       ]
      }, 
      {
       "output_type": "stream", 
       "stream": "stdout", 
       "text": [
        " 0.428369745249", 
        "329.477870159 433.876593881 437.252460502 395.839896782 "
       ]
      }, 
      {
       "output_type": "stream", 
       "stream": "stdout", 
       "text": [
        "409.0", 
        "271.182727273 240.75", 
        "", 
        "6.30855944973"
       ]
      }, 
      {
       "output_type": "stream", 
       "stream": "stdout", 
       "text": [
        " 0.492617946966", 
        "430.90472417 620.109248991 624.105257705 549.253151861 "
       ]
      }, 
      {
       "output_type": "stream", 
       "stream": "stdout", 
       "text": [
        "573.0", 
        "374.884242424 322.0", 
        "", 
        "6.61913702146"
       ]
      }, 
      {
       "output_type": "stream", 
       "stream": "stdout", 
       "text": [
        " 0.399771832009", 
        "638.62632588 811.630981267 809.364252058 749.298189764 "
       ]
      }, 
      {
       "output_type": "stream", 
       "stream": "stdout", 
       "text": [
        "789.5", 
        "449.082975986 434.0", 
        "", 
        "6.36225151547"
       ]
      }, 
      {
       "output_type": "stream", 
       "stream": "stdout", 
       "text": [
        " 0.422701419831", 
        "484.721754935 633.708937961 636.016925667 579.54975377 "
       ]
      }, 
      {
       "ename": "KeyboardInterrupt", 
       "evalue": "", 
       "output_type": "pyerr", 
       "traceback": [
        "<span class=\"ansired\">---------------------------------------------------------------------------</span>\n<span class=\"ansired\">KeyboardInterrupt</span>                         Traceback (most recent call last)", 
        "<span class=\"ansigreen\">/home/sabba/DISI/Code/PyCGH/&lt;ipython-input-11-3a3b7d8282d2&gt;</span> in <span class=\"ansicyan\">&lt;module&gt;</span><span class=\"ansiblue\">()</span>\n<span class=\"ansigreen\">     10</span> <span class=\"ansiyellow\"></span>\n<span class=\"ansigreen\">     11</span>     SAMPLE_PATH <span class=\"ansiyellow\">=</span> os<span class=\"ansiyellow\">.</span>path<span class=\"ansiyellow\">.</span>join<span class=\"ansiyellow\">(</span>ROOT<span class=\"ansiyellow\">,</span> <span class=\"ansiblue\">&apos;Samples&apos;</span><span class=\"ansiyellow\">,</span> <span class=\"ansiblue\">&apos;%s.txt&apos;</span> <span class=\"ansiyellow\">%</span> sample_file<span class=\"ansiyellow\">)</span><span class=\"ansiyellow\"></span>\n<span class=\"ansigreen\">---&gt; 12</span><span class=\"ansiyellow\">     </span>sample <span class=\"ansiyellow\">=</span> agilent<span class=\"ansiyellow\">(</span>SAMPLE_PATH<span class=\"ansiyellow\">,</span> test_channel<span class=\"ansiyellow\">=</span>test_channel<span class=\"ansiyellow\">)</span><span class=\"ansiyellow\"></span>\n<span class=\"ansigreen\">     13</span> <span class=\"ansiyellow\"></span>\n<span class=\"ansigreen\">     14</span>     autosomes <span class=\"ansiyellow\">=</span> <span class=\"ansiyellow\">(</span>sample<span class=\"ansiyellow\">.</span>M<span class=\"ansiyellow\">[</span><span class=\"ansiblue\">&apos;chromosome&apos;</span><span class=\"ansiyellow\">]</span> <span class=\"ansiyellow\">&lt;</span> <span class=\"ansicyan\">23</span><span class=\"ansiyellow\">)</span><span class=\"ansiyellow\"></span>\n", 
        "<span class=\"ansigreen\">/home/sabba/DISI/Code/PyCGH/pycgh/readers/agilent.pyc</span> in <span class=\"ansicyan\">agilent</span><span class=\"ansiblue\">(path, delimiter, test_channel, fill_missings, qc_masking, ucsc_mapping)</span>\n<span class=\"ansigreen\">     35</span>         stats <span class=\"ansiyellow\">=</span> _read_info_line<span class=\"ansiyellow\">(</span>acgh<span class=\"ansiyellow\">,</span> delimiter<span class=\"ansiyellow\">)</span><span class=\"ansiyellow\"></span>\n<span class=\"ansigreen\">     36</span>         <span class=\"ansired\"># Reading FEATURES</span>\n<span class=\"ansiyellow\"></span>\n<span class=\"ansigreen\">---&gt; 37</span><span class=\"ansiyellow\">         </span>features <span class=\"ansiyellow\">=</span> _read_info_block<span class=\"ansiyellow\">(</span>acgh<span class=\"ansiyellow\">,</span> delimiter<span class=\"ansiyellow\">)</span><span class=\"ansiyellow\"></span>\n<span class=\"ansigreen\">     38</span> <span class=\"ansiyellow\"></span>\n<span class=\"ansigreen\">     39</span>     <span class=\"ansired\"># Data lenght</span>\n<span class=\"ansiyellow\"></span>\n", 
        "<span class=\"ansigreen\">/home/sabba/DISI/Code/PyCGH/pycgh/readers/agilent.pyc</span> in <span class=\"ansicyan\">_read_info_block</span><span class=\"ansiblue\">(acgh, delimiter)</span>\n<span class=\"ansigreen\">    143</span>         <span class=\"ansigreen\">for</span> i<span class=\"ansiyellow\">,</span> t<span class=\"ansiyellow\">,</span> d <span class=\"ansigreen\">in</span> zip<span class=\"ansiyellow\">(</span>info<span class=\"ansiyellow\">,</span> types<span class=\"ansiyellow\">,</span> data<span class=\"ansiyellow\">)</span><span class=\"ansiyellow\">:</span><span class=\"ansiyellow\"></span>\n<span class=\"ansigreen\">    144</span>             <span class=\"ansigreen\">try</span><span class=\"ansiyellow\">:</span><span class=\"ansiyellow\"></span>\n<span class=\"ansigreen\">--&gt; 145</span><span class=\"ansiyellow\">                 </span>out<span class=\"ansiyellow\">.</span>setdefault<span class=\"ansiyellow\">(</span>i<span class=\"ansiyellow\">,</span> <span class=\"ansiyellow\">[</span><span class=\"ansiyellow\">]</span><span class=\"ansiyellow\">)</span><span class=\"ansiyellow\">.</span>append<span class=\"ansiyellow\">(</span>TYPE_MAP<span class=\"ansiyellow\">[</span>t<span class=\"ansiyellow\">]</span><span class=\"ansiyellow\">[</span><span class=\"ansicyan\">0</span><span class=\"ansiyellow\">]</span><span class=\"ansiyellow\">(</span>d<span class=\"ansiyellow\">)</span><span class=\"ansiyellow\">)</span><span class=\"ansiyellow\"></span>\n<span class=\"ansigreen\">    146</span>             <span class=\"ansigreen\">except</span> Exception<span class=\"ansiyellow\">,</span> e<span class=\"ansiyellow\">:</span><span class=\"ansiyellow\"></span>\n<span class=\"ansigreen\">    147</span>                 <span class=\"ansigreen\">print</span> <span class=\"ansiblue\">&apos;Skipping unreadable lines #%d&apos;</span> <span class=\"ansiyellow\">%</span> ln<span class=\"ansiyellow\"></span>\n", 
        "<span class=\"ansired\">KeyboardInterrupt</span>: "
       ]
      }, 
      {
       "output_type": "stream", 
       "stream": "stdout", 
       "text": [
        "599.5", 
        "391.516363636 347.25"
       ]
      }
     ], 
     "prompt_number": 11
    }, 
    {
     "cell_type": "code", 
     "collapsed": false, 
     "input": [
      "for sample in csv.DictReader(open(CSV), dialect='excel-tab'):", 
      "    SAMPLE_PATH = os.path.join(ROOT, 'Samples', '%s.txt' % sample_file)", 
      "    sample = agilent(SAMPLE_PATH, test_channel=test_channel)", 
      "    ", 
      "    autosomes = (sample.M['chromosome'] < 23)", 
      "    ref_signal = sample.M['reference_signal'][autosomes]    ", 
      "    ", 
      "    logref = np.log(ref_signal)", 
      "    mean, sigma = logref.mean(), logref.std()", 
      "", 
      "    plt.figure()", 
      "    plt.plot(ref_signal, 'k.')", 
      "    plt.axhline(ref_signal.mean(), c='r')", 
      "    plt.axhline(np.median(ref_signal), c='b')", 
      "", 
      "    plt.figure()", 
      "    _ = plt.hist(ref_signal, bins=1000, normed=True)", 
      "    v = np.linspace(ref_signal.min(), ref_signal.max(), 10000)", 
      "    plt.plot(v, lognormal(v, mean, sigma), 'r-', lw=2)", 
      "", 
      "    plt.figure()", 
      "    _ = plt.hist(logref, bins=1000, normed=True)", 
      "    v = np.linspace(logref.min(), logref.max(), 10000)", 
      "    plt.plot(v, normal(v, mean, sigma), 'r-', lw=2)"
     ], 
     "language": "python", 
     "outputs": [
      {
       "ename": "KeyboardInterrupt", 
       "evalue": "", 
       "output_type": "pyerr", 
       "traceback": [
        "<span class=\"ansired\">---------------------------------------------------------------------------</span>\n<span class=\"ansired\">KeyboardInterrupt</span>                         Traceback (most recent call last)", 
        "<span class=\"ansigreen\">/home/sabba/DISI/Code/PyCGH/&lt;ipython-input-10-3ba2184db6fe&gt;</span> in <span class=\"ansicyan\">&lt;module&gt;</span><span class=\"ansiblue\">()</span>\n<span class=\"ansigreen\">      1</span> <span class=\"ansigreen\">for</span> sample <span class=\"ansigreen\">in</span> csv<span class=\"ansiyellow\">.</span>DictReader<span class=\"ansiyellow\">(</span>open<span class=\"ansiyellow\">(</span>CSV<span class=\"ansiyellow\">)</span><span class=\"ansiyellow\">,</span> dialect<span class=\"ansiyellow\">=</span><span class=\"ansiblue\">&apos;excel-tab&apos;</span><span class=\"ansiyellow\">)</span><span class=\"ansiyellow\">:</span><span class=\"ansiyellow\"></span>\n<span class=\"ansigreen\">      2</span>     SAMPLE_PATH <span class=\"ansiyellow\">=</span> os<span class=\"ansiyellow\">.</span>path<span class=\"ansiyellow\">.</span>join<span class=\"ansiyellow\">(</span>ROOT<span class=\"ansiyellow\">,</span> <span class=\"ansiblue\">&apos;Samples&apos;</span><span class=\"ansiyellow\">,</span> <span class=\"ansiblue\">&apos;%s.txt&apos;</span> <span class=\"ansiyellow\">%</span> sample_file<span class=\"ansiyellow\">)</span><span class=\"ansiyellow\"></span>\n<span class=\"ansigreen\">----&gt; 3</span><span class=\"ansiyellow\">     </span>sample <span class=\"ansiyellow\">=</span> agilent<span class=\"ansiyellow\">(</span>SAMPLE_PATH<span class=\"ansiyellow\">,</span> test_channel<span class=\"ansiyellow\">=</span>test_channel<span class=\"ansiyellow\">)</span><span class=\"ansiyellow\"></span>\n<span class=\"ansigreen\">      4</span> <span class=\"ansiyellow\"></span>\n<span class=\"ansigreen\">      5</span>     autosomes <span class=\"ansiyellow\">=</span> <span class=\"ansiyellow\">(</span>sample<span class=\"ansiyellow\">.</span>M<span class=\"ansiyellow\">[</span><span class=\"ansiblue\">&apos;chromosome&apos;</span><span class=\"ansiyellow\">]</span> <span class=\"ansiyellow\">&lt;</span> <span class=\"ansicyan\">23</span><span class=\"ansiyellow\">)</span><span class=\"ansiyellow\"></span>\n", 
        "<span class=\"ansigreen\">/home/sabba/DISI/Code/PyCGH/pycgh/readers/agilent.pyc</span> in <span class=\"ansicyan\">agilent</span><span class=\"ansiblue\">(path, delimiter, test_channel, fill_missings, qc_masking, ucsc_mapping)</span>\n<span class=\"ansigreen\">     35</span>         stats <span class=\"ansiyellow\">=</span> _read_info_line<span class=\"ansiyellow\">(</span>acgh<span class=\"ansiyellow\">,</span> delimiter<span class=\"ansiyellow\">)</span><span class=\"ansiyellow\"></span>\n<span class=\"ansigreen\">     36</span>         <span class=\"ansired\"># Reading FEATURES</span>\n<span class=\"ansiyellow\"></span>\n<span class=\"ansigreen\">---&gt; 37</span><span class=\"ansiyellow\">         </span>features <span class=\"ansiyellow\">=</span> _read_info_block<span class=\"ansiyellow\">(</span>acgh<span class=\"ansiyellow\">,</span> delimiter<span class=\"ansiyellow\">)</span><span class=\"ansiyellow\"></span>\n<span class=\"ansigreen\">     38</span> <span class=\"ansiyellow\"></span>\n<span class=\"ansigreen\">     39</span>     <span class=\"ansired\"># Data lenght</span>\n<span class=\"ansiyellow\"></span>\n", 
        "<span class=\"ansigreen\">/home/sabba/DISI/Code/PyCGH/pycgh/readers/agilent.pyc</span> in <span class=\"ansicyan\">_read_info_block</span><span class=\"ansiblue\">(acgh, delimiter)</span>\n<span class=\"ansigreen\">    143</span>         <span class=\"ansigreen\">for</span> i<span class=\"ansiyellow\">,</span> t<span class=\"ansiyellow\">,</span> d <span class=\"ansigreen\">in</span> zip<span class=\"ansiyellow\">(</span>info<span class=\"ansiyellow\">,</span> types<span class=\"ansiyellow\">,</span> data<span class=\"ansiyellow\">)</span><span class=\"ansiyellow\">:</span><span class=\"ansiyellow\"></span>\n<span class=\"ansigreen\">    144</span>             <span class=\"ansigreen\">try</span><span class=\"ansiyellow\">:</span><span class=\"ansiyellow\"></span>\n<span class=\"ansigreen\">--&gt; 145</span><span class=\"ansiyellow\">                 </span>out<span class=\"ansiyellow\">.</span>setdefault<span class=\"ansiyellow\">(</span>i<span class=\"ansiyellow\">,</span> <span class=\"ansiyellow\">[</span><span class=\"ansiyellow\">]</span><span class=\"ansiyellow\">)</span><span class=\"ansiyellow\">.</span>append<span class=\"ansiyellow\">(</span>TYPE_MAP<span class=\"ansiyellow\">[</span>t<span class=\"ansiyellow\">]</span><span class=\"ansiyellow\">[</span><span class=\"ansicyan\">0</span><span class=\"ansiyellow\">]</span><span class=\"ansiyellow\">(</span>d<span class=\"ansiyellow\">)</span><span class=\"ansiyellow\">)</span><span class=\"ansiyellow\"></span>\n<span class=\"ansigreen\">    146</span>             <span class=\"ansigreen\">except</span> Exception<span class=\"ansiyellow\">,</span> e<span class=\"ansiyellow\">:</span><span class=\"ansiyellow\"></span>\n<span class=\"ansigreen\">    147</span>                 <span class=\"ansigreen\">print</span> <span class=\"ansiblue\">&apos;Skipping unreadable lines #%d&apos;</span> <span class=\"ansiyellow\">%</span> ln<span class=\"ansiyellow\"></span>\n", 
        "<span class=\"ansired\">KeyboardInterrupt</span>: "
       ]
      }
     ], 
     "prompt_number": 10
    }, 
    {
     "cell_type": "code", 
     "collapsed": true, 
     "input": [], 
     "language": "python", 
     "outputs": [], 
     "prompt_number": "&nbsp;"
    }
   ]
  }
 ]
}