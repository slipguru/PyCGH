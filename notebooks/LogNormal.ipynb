{
 "metadata": {
  "name": "LogNormal"
 }, 
 "nbformat": 2, 
 "worksheets": [
  {
   "cells": [
    {
     "cell_type": "code", 
     "collapsed": false, 
     "input": [
      "# PMFs", 
      "def normal(x, mu, sigma):", 
      "    factor = 1./(sigma*np.sqrt(2*np.pi))", 
      "    expo = np.exp(-0.5 * ( ((x - mu)*(x - mu)) / (sigma*sigma) ))", 
      "    return factor * expo", 
      "", 
      "def lognormal(x, mu, sigma, alog=np.log):", 
      "    factor = alog(np.e)/(x*sigma*np.sqrt(2*np.pi))", 
      "    expo = np.exp(-0.5 * ( ((alog(x) - mu)*(alog(x) - mu)) / (sigma*sigma) ))    ", 
      "    return factor * expo", 
      "", 
      "# LogNormal statistics", 
      "def lognormal_mean(mu, sigma, base=np.e):", 
      "    return base**(mu + sigma*sigma*np.log(base)*0.5)", 
      "", 
      "def lognormal_median(mu, base=np.e):", 
      "    return base**mu", 
      "", 
      "def lognormal_mode(mu, sigma, base=np.e):", 
      "    return base**(mu - sigma*sigma*np.log(base))", 
      "", 
      "def lognormal_std(mu, sigma, base=np.e):", 
      "    return ( lognormal_mean(mu, sigma, base) * ", 
      "             np.sqrt(base**(sigma*sigma*np.log(base)) - 1) )"
     ], 
     "language": "python", 
     "outputs": [], 
     "prompt_number": 207
    }, 
    {
     "cell_type": "code", 
     "collapsed": false, 
     "input": [
      "sigma = .0135", 
      "alog, base = np.log2, 2.", 
      "#alog, base = np.log, np.e", 
      "#alog, base = np.log10, 10.", 
      "#mu = sigma*sigma*np.log(base) # Mode 1", 
      "mu = 200.", 
      "", 
      "# LogNormal generation", 
      "x = base**np.random.normal(mu, sigma, 100000) # clearer", 
      "v = np.linspace(x.min(), x.max(), 1000)", 
      "", 
      "# LogNormal statistics", 
      "median = lognormal_median(mu, base)", 
      "mode = lognormal_mode(mu, sigma, base)", 
      "mean = lognormal_mean(mu, sigma, base)", 
      "", 
      "plt.subplot(211)", 
      "_ = plt.hist(x, bins=1000, normed=True)", 
      "plt.plot(v, lognormal(v, mu, sigma, alog), 'r-', lw=2)", 
      "plt.axvline(mode, c='b', lw=2) # MODE", 
      "", 
      "print 'Median', median, np.median(x)", 
      "print 'Mean', mean, np.mean(x)", 
      "print 'Mode', mode", 
      "", 
      "# Check Underlying Normal", 
      "logx = alog(x)", 
      "v = np.linspace(logx.min(), logx.max(), 1000)", 
      "", 
      "plt.subplot(212)", 
      "_ = plt.hist(logx, bins=1000, normed=True)", 
      "plt.plot(v, normal(v, mu, sigma), 'r-', lw=2)", 
      "plt.axvline(mu, c='b', lw=2) # MEAN"
     ], 
     "language": "python", 
     "outputs": [
      {
       "output_type": "stream", 
       "stream": "stdout", 
       "text": [
        "Median 1.60693804426e+60 1.6070244265e+60", 
        "Mean 1.6070083996e+60 1.60703399441e+60", 
        "Mode 1.60679734281e+60"
       ]
      }, 
      {
       "output_type": "pyout", 
       "prompt_number": 235, 
       "text": [
        "&lt;matplotlib.lines.Line2D at 0x20ac5a90&gt;"
       ]
      }
     ], 
     "prompt_number": 235
    }, 
    {
     "cell_type": "code", 
     "collapsed": false, 
     "input": [
      "# Test of operation between LogNormal Distributions", 
      "mux, sigmax = 1.0, 0.5", 
      "muy, sigmay = 0.5, 0.8", 
      "x = base**np.random.normal(mux, sigmax, 100000)", 
      "y = base**np.random.normal(muy, sigmay, 100000)", 
      "", 
      "plt.subplot(321)", 
      "_ = plt.hist(x, bins=1000, normed=True)", 
      "plt.title('X')", 
      "plt.subplot(322)", 
      "_ = plt.hist(y, bins=1000, normed=True)", 
      "plt.title('Y')", 
      "", 
      "# -- Product -------------------------------", 
      "z = x * y", 
      "", 
      "plt.subplot(323)", 
      "_ = plt.hist(z, bins=1000, normed=True)", 
      "plt.title('X*Y')", 
      "", 
      "# Uderlying Normal", 
      "logz = alog(z)", 
      "", 
      "plt.subplot(325)", 
      "_ = plt.hist(logz, bins=1000, normed=True)", 
      "plt.title('Log(X*Y)')", 
      "", 
      "print 'Log(X*Y) statistics'", 
      "muz, sigmaz = logz.mean(), logz.std()", 
      "print 'Estimated:', muz, sigmaz", 
      "print 'Calculated:', mux + muy, np.sqrt(sigmax**2 + sigmay**2)", 
      "", 
      "# -- Division ------------------------------", 
      "z = x / y", 
      "", 
      "plt.subplot(324)", 
      "_ = plt.hist(z, bins=1000, normed=True)", 
      "plt.title('X/Y')", 
      "", 
      "# Uderlying Normal", 
      "logz = alog(z)", 
      "", 
      "plt.subplot(326)", 
      "_ = plt.hist(logz, bins=1000, normed=True)", 
      "plt.title('Log(X/Y)')", 
      "", 
      "print 'Log(X/Y) statistics'", 
      "muz, sigmaz = logz.mean(), logz.std()", 
      "print 'Estimated:', muz, sigmaz", 
      "print 'Calculated:', mux - muy, np.sqrt(sigmax**2 + sigmay**2)"
     ], 
     "language": "python", 
     "outputs": [], 
     "prompt_number": 5
    }, 
    {
     "cell_type": "code", 
     "collapsed": false, 
     "input": [
      "import sys, os, csv", 
      "sys.path.append('..')", 
      "", 
      "from pycgh.readers import agilent", 
      "", 
      "#ROOT = '/home/sabba/DISI/IST/GEO_Tonini/'", 
      "ROOT = '/home/sabba/Phd/Tonini_IST/Dati/GEO/'", 
      "CSV = os.path.join(ROOT, 'GSE255711_info.csv')", 
      "samples = list(csv.DictReader(open(CSV), dialect='excel-tab'))", 
      "#alog, base = np.log2, 2.", 
      "alog, base = np.log, np.e", 
      "#alog, base = np.log10, 10."
     ], 
     "language": "python", 
     "outputs": [], 
     "prompt_number": 205
    }, 
    {
     "cell_type": "code", 
     "collapsed": false, 
     "input": [
      "for sample in samples[1:2]:", 
      "    sample_file = sample['Sample_title']", 
      "    ch1_label, ch2_label = sample['Sample_label_ch1'], sample['Sample_label_ch2']", 
      "", 
      "    label_map = {'cy3': 'g', 'cy5': 'r'}", 
      "    if sample['Sample_source_name_ch1'] == 'reference':", 
      "        test_channel = label_map[ch2_label]", 
      "        gender = sample['Sample_gender_ch1']", 
      "    else:", 
      "        test_channel = label_map[ch1_label]", 
      "        gender = sample['Sample_gender_ch2']", 
      "        ", 
      "    SAMPLE_PATH = os.path.join(ROOT, 'Samples', '%s.txt' % sample_file)", 
      "    sample = agilent(SAMPLE_PATH, test_channel=test_channel)", 
      "    ", 
      "    # Autosomes LogNormal estimation", 
      "    autosomes = (sample.M['chromosome'] < 23)  ", 
      "    ref_signal = sample.M['reference_signal'][autosomes]", 
      "    ", 
      "    #X = (sample.M['chromosome'] == 23)", 
      "    #ref_Xsignal = sample.M['reference_signal'][X]", 
      "    #print gender", 
      "    #print ref_signal.mean(), ref_Xsignal.mean(), ref_signal.mean() / ref_Xsignal.mean()", 
      "    #print alog(ref_signal).mean(), alog(ref_Xsignal).mean(), alog(ref_signal).mean() / alog(ref_Xsignal).mean()", 
      "    #ref_mode = lognormal_mode(alog(ref_signal).mean(), alog(ref_signal).std(), base)", 
      "    #refx_mode = lognormal_mode(alog(ref_Xsignal).mean(), alog(ref_Xsignal).std(), base)", 
      "    #print ref_mode, refx_mode, ref_mode / refx_mode", 
      "    #continue", 
      "    ", 
      "    logref = alog(ref_signal) # Normal", 
      "    mu, sigma = logref.mean(), logref.std()", 
      "    ", 
      "    mean = lognormal_mean(mu, sigma, base)", 
      "    median = lognormal_median(mu, base)", 
      "    mode = lognormal_mode(mu, sigma, base)", 
      "    std = lognormal_std(mu, sigma, base)", 
      "    print 'Underlying normal mu, sigma:\\t', mu, sigma", 
      "    print 'Reference signal mode:\\t\\t', mode", 
      "    print 'Reference signal mean:\\t\\t', mean, ref_signal.mean()", 
      "    print 'Reference signal median:\\t', median, np.median(ref_signal)", 
      "    print 'Reference signal std:\\t\\t', std, ref_signal.std()", 
      "    ", 
      "    plt.subplot(411)", 
      "    plt.plot(ref_signal, 'k.')", 
      "    plt.axhline(mode, c='r', lw=2)", 
      "    plt.axhline(mean, c='b', lw=2)", 
      "    plt.axhline(median, c='g', lw=2)", 
      "    #plt.axhline(ref_signal.mean(), c='r')", 
      "    #plt.axhline(np.median(ref_signal), c='b')", 
      "", 
      "    plt.subplot(412)", 
      "    _ = plt.hist(ref_signal, bins=1000, normed=True)", 
      "    v = np.linspace(ref_signal.min(), ref_signal.max(), 10000)", 
      "    plt.plot(v, lognormal(v, mu, sigma, alog), 'r-', lw=2)", 
      "    plt.axvline(mode, c='r', lw=2)", 
      "    plt.axvline(mean, c='b', lw=2)", 
      "    plt.axvline(median, c='g', lw=2)", 
      "    ", 
      "    # LogNormal parametrization given the mode", 
      "    # Fixed the underlying sigma and the base response", 
      "    # We try to model the noisy response", 
      "    response = mode / 2.", 
      "    respo_err = sigma#*2.", 
      "    respo_mu = alog(2*response) + respo_err*respo_err*np.log(base) # Mode 1", 
      "    plt.plot(v, lognormal(v, respo_mu, respo_err, alog), 'g-.', lw=2)", 
      "    a = plt.axis()", 
      "    ", 
      "    # Synthetic signal", 
      "    plt.subplot(413)", 
      "    x = np.ones_like(ref_signal) * 2. ", 
      "    normal_error = np.random.normal(respo_mu, respo_err, len(x))", 
      "    ", 
      "    synth_signal = x * base**normal_error", 
      "    plt.plot(x * base**normal_error, 'k.')", 
      "    ", 
      "    plt.subplot(414)", 
      "    _ = plt.hist(synth_signal, bins=1000, normed=True)", 
      "    v = np.linspace(synth_signal.min(), synth_signal.max(), 10000)", 
      "    plt.plot(v, lognormal(v, respo_mu + alog(x).mean(), respo_err, alog), 'r-', lw=2)", 
      "    plt.axis(a)", 
      "       "
     ], 
     "language": "python", 
     "outputs": [
      {
       "output_type": "stream", 
       "stream": "stdout", 
       "text": [
        "Underlying normal mu, sigma:\t8.68419736702 0.682577358367", 
        "Reference signal mode:\t\t328.842255016", 
        "Reference signal mean:\t\t460.057414896 464.933369143", 
        "Reference signal median:\t411.342795991 415.0", 
        "Reference signal std:\t\t230.434034734 316.024506601"
       ]
      }
     ], 
     "prompt_number": 245
    }, 
    {
     "cell_type": "code", 
     "collapsed": false, 
     "input": [
      "# Test generation (base 2)", 
      "sigma = .25", 
      "sigma_raw = sigma*np.sqrt(2)", 
      "", 
      "response = 50.", 
      "#mu_raw = np.log2(2*response) + sigma_raw*sigma_raw*np.log(2.) # Mode 1", 
      "mu_raw = np.log2(response)", 
      "", 
      "x = np.ones_like(ref_signal) * 2. ", 
      "error_x = np.random.normal(mu_raw, sigma_raw, len(x))", 
      "", 
      "y = np.ones_like(ref_signal)", 
      "step = 10000", 
      "for i, s in enumerate(range(0, len(y), step)):", 
      "    y[s:s+step] = (i%4)+1.   ", 
      "y = (y*0.7 + 2*0.3)", 
      "error_y = np.random.normal(mu_raw, sigma_raw, len(y))", 
      "", 
      "y = x.copy()", 
      "", 
      "t = x * (2.**error_x)", 
      "r = y * (2.**error_y)", 
      "", 
      "plt.subplot(311)", 
      "plt.plot(t, 'k.')", 
      "print t.mean(), t.std()", 
      "print np.log2(t).mean(), np.log2(t).std()", 
      "", 
      "plt.subplot(312)", 
      "plt.plot(r, 'k.')", 
      "print r.mean(), r.std()", 
      "print np.log2(r).mean(), np.log2(r).std()", 
      "", 
      "plt.subplot(313)", 
      "logratio = np.log2(t) - np.log2(r)", 
      "plt.plot(logratio, 'k.')", 
      "", 
      "print logratio.mean(), logratio.std()"
     ], 
     "language": "python", 
     "outputs": [
      {
       "output_type": "stream", 
       "stream": "stdout", 
       "text": [
        "102.854777611 25.6960411335", 
        "6.64083757856 0.354760549751", 
        "103.192063285"
       ]
      }, 
      {
       "output_type": "stream", 
       "stream": "stdout", 
       "text": [
        " 25.5593229232", 
        "6.64608904047 0.352950868128", 
        "-0.00525146190604"
       ]
      }, 
      {
       "output_type": "stream", 
       "stream": "stdout", 
       "text": [
        " 0.499247665853"
       ]
      }
     ], 
     "prompt_number": 259
    }, 
    {
     "cell_type": "code", 
     "collapsed": false, 
     "input": [
      "alog(5.31), alog(5.76)"
     ], 
     "language": "python", 
     "outputs": [
      {
       "output_type": "pyout", 
       "prompt_number": 162, 
       "text": [
        "(1.6695918352538475, 1.7509374747077999)"
       ]
      }
     ], 
     "prompt_number": 162
    }, 
    {
     "cell_type": "code", 
     "collapsed": true, 
     "input": [], 
     "language": "python", 
     "outputs": [], 
     "prompt_number": "&nbsp;"
    }
   ]
  }
 ]
}